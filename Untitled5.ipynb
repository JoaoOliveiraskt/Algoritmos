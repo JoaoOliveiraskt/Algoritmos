{
  "nbformat": 4,
  "nbformat_minor": 0,
  "metadata": {
    "colab": {
      "provenance": [],
      "authorship_tag": "ABX9TyMfvq3YuFd8z05RA7Xss98Y",
      "include_colab_link": true
    },
    "kernelspec": {
      "name": "python3",
      "display_name": "Python 3"
    },
    "language_info": {
      "name": "python"
    }
  },
  "cells": [
    {
      "cell_type": "markdown",
      "metadata": {
        "id": "view-in-github",
        "colab_type": "text"
      },
      "source": [
        "<a href=\"https://colab.research.google.com/github/JoaoOliveiraskt/Algoritmos/blob/main/Untitled5.ipynb\" target=\"_parent\"><img src=\"https://colab.research.google.com/assets/colab-badge.svg\" alt=\"Open In Colab\"/></a>"
      ]
    },
    {
      "cell_type": "code",
      "execution_count": null,
      "metadata": {
        "colab": {
          "base_uri": "https://localhost:8080/"
        },
        "id": "qqVyt8ygHAMk",
        "outputId": "0504d3e0-8a17-4339-d0eb-dc8b022ec36a"
      },
      "outputs": [
        {
          "output_type": "stream",
          "name": "stdout",
          "text": [
            "Digite o deslocamento: 12\n",
            "Digite o tempo: 6\n",
            "2.0\n"
          ]
        }
      ],
      "source": [
        "def calcularVelocidadeMedia(deslocamentoTotal, tempoTotal):\n",
        "\n",
        "  velocidadeMedia = deslocamentoTotal / tempoTotal\n",
        "  print(f'A velocidade média é {velocidadeMedia} m/s')\n",
        "\n",
        "deslocamentoTotal = float(input(\"Digite o deslocamento em metros: \"))\n",
        "tempoTotal = float(input(\"Digite o tempo em segundos: \"))\n",
        "\n",
        "calcularVelocidadeMedia(deslocamentoTotal, tempoTotal)\n"
      ]
    },
    {
      "cell_type": "markdown",
      "source": [],
      "metadata": {
        "id": "iLIwv3pbd4L2"
      }
    },
    {
      "cell_type": "code",
      "source": [
        "def calcularVelocidadeMedia(distanciaKm, tempoH):\n",
        "    velocidadeKmh = distanciaKm / tempoH\n",
        "    velocidadeMs = velocidadeKmh / 3.6\n",
        "\n",
        "    return velocidadeMs\n",
        "\n",
        "distanciaKm = float(input(\"Digite a distância em quilômetros: \"))\n",
        "tempoH = float(input(\"Digite o tempo em horas: \"))\n",
        "\n",
        "velocidadeMedia = calcularVelocidadeMedia(distanciaKm, tempoH)\n",
        "\n",
        "print(f\"A velocidade média é {velocidadeMedia:.2f} m/s.\")\n",
        "\n"
      ],
      "metadata": {
        "id": "Jk_4lx36Lutq",
        "colab": {
          "base_uri": "https://localhost:8080/"
        },
        "outputId": "c2c015db-f24f-4942-b711-d155ad66ac8d"
      },
      "execution_count": null,
      "outputs": [
        {
          "output_type": "stream",
          "name": "stdout",
          "text": [
            "Digite a distância em quilômetros: 200\n",
            "Digite o tempo em horas: 4\n",
            "A velocidade média é 13.89 m/s.\n"
          ]
        }
      ]
    },
    {
      "cell_type": "code",
      "source": [
        "def distanciaArrmessadorRebatedor(velocidade, tempo):\n",
        "\n",
        "  distancia = velocidade * tempo\n",
        "  print(f'A distância entre o arremessador e o rebatedor é {distancia} metros')\n",
        "\n",
        "velocidade = float(input(\"Digite a velocidade da bola em m/s: \"))\n",
        "tempo = float(input(\"Digite o tempo em segundos: \"))\n",
        "\n",
        "distanciaArrmessadorRebatedor(velocidade, tempo)"
      ],
      "metadata": {
        "id": "_ZESbsN4aDTB",
        "colab": {
          "base_uri": "https://localhost:8080/"
        },
        "outputId": "8264eb00-903f-4de0-9c41-d88ee0299208"
      },
      "execution_count": null,
      "outputs": [
        {
          "output_type": "stream",
          "name": "stdout",
          "text": [
            "Digite a velocidade da bola em m/s: 108\n",
            "Digite o tempo em segundos: 0.6\n",
            "A distância entre o arremessador e o rebatedor é 64.8 metros\n"
          ]
        }
      ]
    },
    {
      "cell_type": "code",
      "source": [],
      "metadata": {
        "id": "8PagxPLCeQn5"
      },
      "execution_count": null,
      "outputs": []
    }
  ]
}